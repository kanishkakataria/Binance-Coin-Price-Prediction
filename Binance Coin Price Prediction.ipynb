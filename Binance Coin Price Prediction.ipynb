{
 "cells": [
  {
   "cell_type": "markdown",
   "metadata": {},
   "source": [
    "# BINANCE COIN PRICE PREDICTION"
   ]
  },
  {
   "cell_type": "code",
   "execution_count": 771,
   "metadata": {},
   "outputs": [],
   "source": [
    "#importing the libraries\n",
    "import pandas as pd\n",
    "import numpy as np\n",
    "import matplotlib.pyplot as mp\n",
    "import seaborn as sns\n",
    "import warnings\n",
    "warnings.filterwarnings('ignore')"
   ]
  },
  {
   "cell_type": "code",
   "execution_count": 772,
   "metadata": {},
   "outputs": [],
   "source": [
    "#reading the dataset\n",
    "coin=pd.read_csv('Binance Coin - Historic data.csv')"
   ]
  },
  {
   "cell_type": "code",
   "execution_count": 773,
   "metadata": {},
   "outputs": [
    {
     "name": "stdout",
     "output_type": "stream",
     "text": [
      "<class 'pandas.core.frame.DataFrame'>\n",
      "RangeIndex: 1357 entries, 0 to 1356\n",
      "Data columns (total 7 columns):\n",
      " #   Column             Non-Null Count  Dtype  \n",
      "---  ------             --------------  -----  \n",
      " 0   Date               1357 non-null   object \n",
      " 1   Price(in dollars)  1357 non-null   float64\n",
      " 2   Open               1357 non-null   float64\n",
      " 3   High               1357 non-null   float64\n",
      " 4   Low                1357 non-null   float64\n",
      " 5   Vol.               1357 non-null   object \n",
      " 6   Change%            1357 non-null   float64\n",
      "dtypes: float64(5), object(2)\n",
      "memory usage: 74.3+ KB\n"
     ]
    }
   ],
   "source": [
    "#viewing the dataset\n",
    "coin.info()\n"
   ]
  },
  {
   "cell_type": "code",
   "execution_count": 774,
   "metadata": {},
   "outputs": [
    {
     "data": {
      "text/plain": [
       "Index(['Date', 'Price(in dollars)', 'Open', 'High', 'Low', 'Vol.', 'Change%'], dtype='object')"
      ]
     },
     "execution_count": 774,
     "metadata": {},
     "output_type": "execute_result"
    }
   ],
   "source": [
    "#total attributes\n",
    "coin.columns"
   ]
  },
  {
   "cell_type": "code",
   "execution_count": 775,
   "metadata": {},
   "outputs": [
    {
     "data": {
      "text/html": [
       "<div>\n",
       "<style scoped>\n",
       "    .dataframe tbody tr th:only-of-type {\n",
       "        vertical-align: middle;\n",
       "    }\n",
       "\n",
       "    .dataframe tbody tr th {\n",
       "        vertical-align: top;\n",
       "    }\n",
       "\n",
       "    .dataframe thead th {\n",
       "        text-align: right;\n",
       "    }\n",
       "</style>\n",
       "<table border=\"1\" class=\"dataframe\">\n",
       "  <thead>\n",
       "    <tr style=\"text-align: right;\">\n",
       "      <th></th>\n",
       "      <th>Date</th>\n",
       "      <th>Price(in dollars)</th>\n",
       "      <th>Open</th>\n",
       "      <th>High</th>\n",
       "      <th>Low</th>\n",
       "      <th>Vol.</th>\n",
       "      <th>Change%</th>\n",
       "    </tr>\n",
       "  </thead>\n",
       "  <tbody>\n",
       "    <tr>\n",
       "      <th>0</th>\n",
       "      <td>Jul 27, 2021</td>\n",
       "      <td>303.29</td>\n",
       "      <td>304.31</td>\n",
       "      <td>307.62</td>\n",
       "      <td>298.53</td>\n",
       "      <td>2.26M</td>\n",
       "      <td>-0.33</td>\n",
       "    </tr>\n",
       "    <tr>\n",
       "      <th>1</th>\n",
       "      <td>Jul 26, 2021</td>\n",
       "      <td>304.31</td>\n",
       "      <td>302.60</td>\n",
       "      <td>327.62</td>\n",
       "      <td>301.19</td>\n",
       "      <td>2.86M</td>\n",
       "      <td>0.58</td>\n",
       "    </tr>\n",
       "    <tr>\n",
       "      <th>2</th>\n",
       "      <td>Jul 25, 2021</td>\n",
       "      <td>302.57</td>\n",
       "      <td>302.55</td>\n",
       "      <td>303.09</td>\n",
       "      <td>292.85</td>\n",
       "      <td>1.25M</td>\n",
       "      <td>-0.19</td>\n",
       "    </tr>\n",
       "    <tr>\n",
       "      <th>3</th>\n",
       "      <td>Jul 24, 2021</td>\n",
       "      <td>303.15</td>\n",
       "      <td>298.91</td>\n",
       "      <td>305.01</td>\n",
       "      <td>296.16</td>\n",
       "      <td>1.81M</td>\n",
       "      <td>1.42</td>\n",
       "    </tr>\n",
       "    <tr>\n",
       "      <th>4</th>\n",
       "      <td>Jul 23, 2021</td>\n",
       "      <td>298.89</td>\n",
       "      <td>293.51</td>\n",
       "      <td>301.15</td>\n",
       "      <td>281.68</td>\n",
       "      <td>1.98M</td>\n",
       "      <td>1.83</td>\n",
       "    </tr>\n",
       "    <tr>\n",
       "      <th>...</th>\n",
       "      <td>...</td>\n",
       "      <td>...</td>\n",
       "      <td>...</td>\n",
       "      <td>...</td>\n",
       "      <td>...</td>\n",
       "      <td>...</td>\n",
       "      <td>...</td>\n",
       "    </tr>\n",
       "    <tr>\n",
       "      <th>1352</th>\n",
       "      <td>Nov 13, 2017</td>\n",
       "      <td>1.68</td>\n",
       "      <td>1.49</td>\n",
       "      <td>1.74</td>\n",
       "      <td>1.49</td>\n",
       "      <td>166.01K</td>\n",
       "      <td>12.75</td>\n",
       "    </tr>\n",
       "    <tr>\n",
       "      <th>1353</th>\n",
       "      <td>Nov 12, 2017</td>\n",
       "      <td>1.49</td>\n",
       "      <td>1.66</td>\n",
       "      <td>1.70</td>\n",
       "      <td>1.34</td>\n",
       "      <td>456.48K</td>\n",
       "      <td>-10.24</td>\n",
       "    </tr>\n",
       "    <tr>\n",
       "      <th>1354</th>\n",
       "      <td>Nov 11, 2017</td>\n",
       "      <td>1.66</td>\n",
       "      <td>1.71</td>\n",
       "      <td>1.93</td>\n",
       "      <td>1.58</td>\n",
       "      <td>256.71K</td>\n",
       "      <td>-2.92</td>\n",
       "    </tr>\n",
       "    <tr>\n",
       "      <th>1355</th>\n",
       "      <td>Nov 10, 2017</td>\n",
       "      <td>1.71</td>\n",
       "      <td>1.99</td>\n",
       "      <td>2.02</td>\n",
       "      <td>1.60</td>\n",
       "      <td>483.23K</td>\n",
       "      <td>-14.07</td>\n",
       "    </tr>\n",
       "    <tr>\n",
       "      <th>1356</th>\n",
       "      <td>Nov 09, 2017</td>\n",
       "      <td>1.99</td>\n",
       "      <td>1.99</td>\n",
       "      <td>2.20</td>\n",
       "      <td>1.90</td>\n",
       "      <td>283.35K</td>\n",
       "      <td>0.00</td>\n",
       "    </tr>\n",
       "  </tbody>\n",
       "</table>\n",
       "<p>1357 rows × 7 columns</p>\n",
       "</div>"
      ],
      "text/plain": [
       "              Date  Price(in dollars)    Open    High     Low     Vol.  \\\n",
       "0     Jul 27, 2021             303.29  304.31  307.62  298.53    2.26M   \n",
       "1     Jul 26, 2021             304.31  302.60  327.62  301.19    2.86M   \n",
       "2     Jul 25, 2021             302.57  302.55  303.09  292.85    1.25M   \n",
       "3     Jul 24, 2021             303.15  298.91  305.01  296.16    1.81M   \n",
       "4     Jul 23, 2021             298.89  293.51  301.15  281.68    1.98M   \n",
       "...            ...                ...     ...     ...     ...      ...   \n",
       "1352  Nov 13, 2017               1.68    1.49    1.74    1.49  166.01K   \n",
       "1353  Nov 12, 2017               1.49    1.66    1.70    1.34  456.48K   \n",
       "1354  Nov 11, 2017               1.66    1.71    1.93    1.58  256.71K   \n",
       "1355  Nov 10, 2017               1.71    1.99    2.02    1.60  483.23K   \n",
       "1356  Nov 09, 2017               1.99    1.99    2.20    1.90  283.35K   \n",
       "\n",
       "      Change%  \n",
       "0       -0.33  \n",
       "1        0.58  \n",
       "2       -0.19  \n",
       "3        1.42  \n",
       "4        1.83  \n",
       "...       ...  \n",
       "1352    12.75  \n",
       "1353   -10.24  \n",
       "1354    -2.92  \n",
       "1355   -14.07  \n",
       "1356     0.00  \n",
       "\n",
       "[1357 rows x 7 columns]"
      ]
     },
     "execution_count": 775,
     "metadata": {},
     "output_type": "execute_result"
    }
   ],
   "source": [
    "coin"
   ]
  },
  {
   "cell_type": "code",
   "execution_count": 776,
   "metadata": {},
   "outputs": [],
   "source": [
    "#having only column of year\n",
    "year=coin.Date.apply(lambda x: x.split()[2])"
   ]
  },
  {
   "cell_type": "code",
   "execution_count": 777,
   "metadata": {},
   "outputs": [
    {
     "data": {
      "text/plain": [
       "Index(['Date', 'Price(in dollars)', 'Open', 'High', 'Low', 'Vol.', 'Change%'], dtype='object')"
      ]
     },
     "execution_count": 777,
     "metadata": {},
     "output_type": "execute_result"
    }
   ],
   "source": [
    "coin.columns"
   ]
  },
  {
   "cell_type": "code",
   "execution_count": 778,
   "metadata": {},
   "outputs": [],
   "source": [
    "coin.insert(1,\"Year\",year)"
   ]
  },
  {
   "cell_type": "code",
   "execution_count": 779,
   "metadata": {},
   "outputs": [
    {
     "data": {
      "text/html": [
       "<div>\n",
       "<style scoped>\n",
       "    .dataframe tbody tr th:only-of-type {\n",
       "        vertical-align: middle;\n",
       "    }\n",
       "\n",
       "    .dataframe tbody tr th {\n",
       "        vertical-align: top;\n",
       "    }\n",
       "\n",
       "    .dataframe thead th {\n",
       "        text-align: right;\n",
       "    }\n",
       "</style>\n",
       "<table border=\"1\" class=\"dataframe\">\n",
       "  <thead>\n",
       "    <tr style=\"text-align: right;\">\n",
       "      <th></th>\n",
       "      <th>Year</th>\n",
       "      <th>Price(in dollars)</th>\n",
       "      <th>Open</th>\n",
       "      <th>High</th>\n",
       "      <th>Low</th>\n",
       "      <th>Vol.</th>\n",
       "      <th>Change%</th>\n",
       "    </tr>\n",
       "  </thead>\n",
       "  <tbody>\n",
       "    <tr>\n",
       "      <th>0</th>\n",
       "      <td>2021</td>\n",
       "      <td>303.29</td>\n",
       "      <td>304.31</td>\n",
       "      <td>307.62</td>\n",
       "      <td>298.53</td>\n",
       "      <td>2.26M</td>\n",
       "      <td>-0.33</td>\n",
       "    </tr>\n",
       "    <tr>\n",
       "      <th>1</th>\n",
       "      <td>2021</td>\n",
       "      <td>304.31</td>\n",
       "      <td>302.60</td>\n",
       "      <td>327.62</td>\n",
       "      <td>301.19</td>\n",
       "      <td>2.86M</td>\n",
       "      <td>0.58</td>\n",
       "    </tr>\n",
       "    <tr>\n",
       "      <th>2</th>\n",
       "      <td>2021</td>\n",
       "      <td>302.57</td>\n",
       "      <td>302.55</td>\n",
       "      <td>303.09</td>\n",
       "      <td>292.85</td>\n",
       "      <td>1.25M</td>\n",
       "      <td>-0.19</td>\n",
       "    </tr>\n",
       "    <tr>\n",
       "      <th>3</th>\n",
       "      <td>2021</td>\n",
       "      <td>303.15</td>\n",
       "      <td>298.91</td>\n",
       "      <td>305.01</td>\n",
       "      <td>296.16</td>\n",
       "      <td>1.81M</td>\n",
       "      <td>1.42</td>\n",
       "    </tr>\n",
       "    <tr>\n",
       "      <th>4</th>\n",
       "      <td>2021</td>\n",
       "      <td>298.89</td>\n",
       "      <td>293.51</td>\n",
       "      <td>301.15</td>\n",
       "      <td>281.68</td>\n",
       "      <td>1.98M</td>\n",
       "      <td>1.83</td>\n",
       "    </tr>\n",
       "    <tr>\n",
       "      <th>...</th>\n",
       "      <td>...</td>\n",
       "      <td>...</td>\n",
       "      <td>...</td>\n",
       "      <td>...</td>\n",
       "      <td>...</td>\n",
       "      <td>...</td>\n",
       "      <td>...</td>\n",
       "    </tr>\n",
       "    <tr>\n",
       "      <th>1352</th>\n",
       "      <td>2017</td>\n",
       "      <td>1.68</td>\n",
       "      <td>1.49</td>\n",
       "      <td>1.74</td>\n",
       "      <td>1.49</td>\n",
       "      <td>166.01K</td>\n",
       "      <td>12.75</td>\n",
       "    </tr>\n",
       "    <tr>\n",
       "      <th>1353</th>\n",
       "      <td>2017</td>\n",
       "      <td>1.49</td>\n",
       "      <td>1.66</td>\n",
       "      <td>1.70</td>\n",
       "      <td>1.34</td>\n",
       "      <td>456.48K</td>\n",
       "      <td>-10.24</td>\n",
       "    </tr>\n",
       "    <tr>\n",
       "      <th>1354</th>\n",
       "      <td>2017</td>\n",
       "      <td>1.66</td>\n",
       "      <td>1.71</td>\n",
       "      <td>1.93</td>\n",
       "      <td>1.58</td>\n",
       "      <td>256.71K</td>\n",
       "      <td>-2.92</td>\n",
       "    </tr>\n",
       "    <tr>\n",
       "      <th>1355</th>\n",
       "      <td>2017</td>\n",
       "      <td>1.71</td>\n",
       "      <td>1.99</td>\n",
       "      <td>2.02</td>\n",
       "      <td>1.60</td>\n",
       "      <td>483.23K</td>\n",
       "      <td>-14.07</td>\n",
       "    </tr>\n",
       "    <tr>\n",
       "      <th>1356</th>\n",
       "      <td>2017</td>\n",
       "      <td>1.99</td>\n",
       "      <td>1.99</td>\n",
       "      <td>2.20</td>\n",
       "      <td>1.90</td>\n",
       "      <td>283.35K</td>\n",
       "      <td>0.00</td>\n",
       "    </tr>\n",
       "  </tbody>\n",
       "</table>\n",
       "<p>1357 rows × 7 columns</p>\n",
       "</div>"
      ],
      "text/plain": [
       "      Year  Price(in dollars)    Open    High     Low     Vol.  Change%\n",
       "0     2021             303.29  304.31  307.62  298.53    2.26M    -0.33\n",
       "1     2021             304.31  302.60  327.62  301.19    2.86M     0.58\n",
       "2     2021             302.57  302.55  303.09  292.85    1.25M    -0.19\n",
       "3     2021             303.15  298.91  305.01  296.16    1.81M     1.42\n",
       "4     2021             298.89  293.51  301.15  281.68    1.98M     1.83\n",
       "...    ...                ...     ...     ...     ...      ...      ...\n",
       "1352  2017               1.68    1.49    1.74    1.49  166.01K    12.75\n",
       "1353  2017               1.49    1.66    1.70    1.34  456.48K   -10.24\n",
       "1354  2017               1.66    1.71    1.93    1.58  256.71K    -2.92\n",
       "1355  2017               1.71    1.99    2.02    1.60  483.23K   -14.07\n",
       "1356  2017               1.99    1.99    2.20    1.90  283.35K     0.00\n",
       "\n",
       "[1357 rows x 7 columns]"
      ]
     },
     "execution_count": 779,
     "metadata": {},
     "output_type": "execute_result"
    }
   ],
   "source": [
    "coin.drop(['Date'],axis=1)"
   ]
  },
  {
   "cell_type": "code",
   "execution_count": 780,
   "metadata": {},
   "outputs": [
    {
     "data": {
      "text/plain": [
       "0       2021\n",
       "1       2021\n",
       "2       2021\n",
       "3       2021\n",
       "4       2021\n",
       "        ... \n",
       "1352    2017\n",
       "1353    2017\n",
       "1354    2017\n",
       "1355    2017\n",
       "1356    2017\n",
       "Name: Year, Length: 1357, dtype: object"
      ]
     },
     "execution_count": 780,
     "metadata": {},
     "output_type": "execute_result"
    }
   ],
   "source": [
    "coin.Year"
   ]
  },
  {
   "cell_type": "code",
   "execution_count": 781,
   "metadata": {},
   "outputs": [
    {
     "data": {
      "text/plain": [
       "Change%    3.383208\n",
       "dtype: float64"
      ]
     },
     "execution_count": 781,
     "metadata": {},
     "output_type": "execute_result"
    }
   ],
   "source": [
    "coin.loc[(coin['Year'] =='2017')][['Change%']].mean() "
   ]
  },
  {
   "cell_type": "code",
   "execution_count": 782,
   "metadata": {},
   "outputs": [
    {
     "data": {
      "text/plain": [
       "Change%    0.171452\n",
       "dtype: float64"
      ]
     },
     "execution_count": 782,
     "metadata": {},
     "output_type": "execute_result"
    }
   ],
   "source": [
    "coin.loc[(coin['Year'] =='2018')][['Change%']].mean()"
   ]
  },
  {
   "cell_type": "code",
   "execution_count": 783,
   "metadata": {},
   "outputs": [
    {
     "data": {
      "text/plain": [
       "Change%    0.320384\n",
       "dtype: float64"
      ]
     },
     "execution_count": 783,
     "metadata": {},
     "output_type": "execute_result"
    }
   ],
   "source": [
    "coin.loc[(coin['Year'] =='2019')][['Change%']].mean()"
   ]
  },
  {
   "cell_type": "code",
   "execution_count": 784,
   "metadata": {},
   "outputs": [
    {
     "data": {
      "text/plain": [
       "Change%    0.405929\n",
       "dtype: float64"
      ]
     },
     "execution_count": 784,
     "metadata": {},
     "output_type": "execute_result"
    }
   ],
   "source": [
    "coin.loc[(coin['Year'] =='2020')][['Change%']].mean()"
   ]
  },
  {
   "cell_type": "code",
   "execution_count": 785,
   "metadata": {},
   "outputs": [
    {
     "data": {
      "text/plain": [
       "Change%    1.430673\n",
       "dtype: float64"
      ]
     },
     "execution_count": 785,
     "metadata": {},
     "output_type": "execute_result"
    }
   ],
   "source": [
    "coin.loc[(coin['Year'] =='2021')][['Change%']].mean()"
   ]
  },
  {
   "cell_type": "code",
   "execution_count": 786,
   "metadata": {},
   "outputs": [
    {
     "data": {
      "image/png": "[encoded data removed]",
      "text/plain": [
       "<Figure size 1440x576 with 2 Axes>"
      ]
     },
     "metadata": {
      "needs_background": "light"
     },
     "output_type": "display_data"
    }
   ],
   "source": [
    "mp.figure(figsize=(20,8))\n",
    "\n",
    "mp.subplot(1,2,1)\n",
    "mp.title('Binance Price Distribution Plot')\n",
    "sns.distplot(coin['Price(in dollars)'])\n",
    "\n",
    "mp.subplot(1,2,2)\n",
    "mp.title('Binance  Price Spread')\n",
    "mp.boxplot(coin['Price(in dollars)'])\n",
    "\n",
    "mp.show()"
   ]
  },
  {
   "cell_type": "code",
   "execution_count": null,
   "metadata": {},
   "outputs": [],
   "source": []
  },
  {
   "cell_type": "code",
   "execution_count": 787,
   "metadata": {},
   "outputs": [
    {
     "data": {
      "text/html": [
       "<div>\n",
       "<style scoped>\n",
       "    .dataframe tbody tr th:only-of-type {\n",
       "        vertical-align: middle;\n",
       "    }\n",
       "\n",
       "    .dataframe tbody tr th {\n",
       "        vertical-align: top;\n",
       "    }\n",
       "\n",
       "    .dataframe thead th {\n",
       "        text-align: right;\n",
       "    }\n",
       "</style>\n",
       "<table border=\"1\" class=\"dataframe\">\n",
       "  <thead>\n",
       "    <tr style=\"text-align: right;\">\n",
       "      <th></th>\n",
       "      <th>Year</th>\n",
       "      <th>Price(in dollars)</th>\n",
       "      <th>Open</th>\n",
       "      <th>High</th>\n",
       "      <th>Low</th>\n",
       "      <th>Vol.</th>\n",
       "      <th>Change%</th>\n",
       "    </tr>\n",
       "  </thead>\n",
       "  <tbody>\n",
       "    <tr>\n",
       "      <th>0</th>\n",
       "      <td>2021</td>\n",
       "      <td>303.29</td>\n",
       "      <td>304.31</td>\n",
       "      <td>307.62</td>\n",
       "      <td>298.53</td>\n",
       "      <td>2.26M</td>\n",
       "      <td>-0.33</td>\n",
       "    </tr>\n",
       "    <tr>\n",
       "      <th>1</th>\n",
       "      <td>2021</td>\n",
       "      <td>304.31</td>\n",
       "      <td>302.60</td>\n",
       "      <td>327.62</td>\n",
       "      <td>301.19</td>\n",
       "      <td>2.86M</td>\n",
       "      <td>0.58</td>\n",
       "    </tr>\n",
       "    <tr>\n",
       "      <th>2</th>\n",
       "      <td>2021</td>\n",
       "      <td>302.57</td>\n",
       "      <td>302.55</td>\n",
       "      <td>303.09</td>\n",
       "      <td>292.85</td>\n",
       "      <td>1.25M</td>\n",
       "      <td>-0.19</td>\n",
       "    </tr>\n",
       "    <tr>\n",
       "      <th>3</th>\n",
       "      <td>2021</td>\n",
       "      <td>303.15</td>\n",
       "      <td>298.91</td>\n",
       "      <td>305.01</td>\n",
       "      <td>296.16</td>\n",
       "      <td>1.81M</td>\n",
       "      <td>1.42</td>\n",
       "    </tr>\n",
       "    <tr>\n",
       "      <th>4</th>\n",
       "      <td>2021</td>\n",
       "      <td>298.89</td>\n",
       "      <td>293.51</td>\n",
       "      <td>301.15</td>\n",
       "      <td>281.68</td>\n",
       "      <td>1.98M</td>\n",
       "      <td>1.83</td>\n",
       "    </tr>\n",
       "    <tr>\n",
       "      <th>...</th>\n",
       "      <td>...</td>\n",
       "      <td>...</td>\n",
       "      <td>...</td>\n",
       "      <td>...</td>\n",
       "      <td>...</td>\n",
       "      <td>...</td>\n",
       "      <td>...</td>\n",
       "    </tr>\n",
       "    <tr>\n",
       "      <th>1352</th>\n",
       "      <td>2017</td>\n",
       "      <td>1.68</td>\n",
       "      <td>1.49</td>\n",
       "      <td>1.74</td>\n",
       "      <td>1.49</td>\n",
       "      <td>166.01K</td>\n",
       "      <td>12.75</td>\n",
       "    </tr>\n",
       "    <tr>\n",
       "      <th>1353</th>\n",
       "      <td>2017</td>\n",
       "      <td>1.49</td>\n",
       "      <td>1.66</td>\n",
       "      <td>1.70</td>\n",
       "      <td>1.34</td>\n",
       "      <td>456.48K</td>\n",
       "      <td>-10.24</td>\n",
       "    </tr>\n",
       "    <tr>\n",
       "      <th>1354</th>\n",
       "      <td>2017</td>\n",
       "      <td>1.66</td>\n",
       "      <td>1.71</td>\n",
       "      <td>1.93</td>\n",
       "      <td>1.58</td>\n",
       "      <td>256.71K</td>\n",
       "      <td>-2.92</td>\n",
       "    </tr>\n",
       "    <tr>\n",
       "      <th>1355</th>\n",
       "      <td>2017</td>\n",
       "      <td>1.71</td>\n",
       "      <td>1.99</td>\n",
       "      <td>2.02</td>\n",
       "      <td>1.60</td>\n",
       "      <td>483.23K</td>\n",
       "      <td>-14.07</td>\n",
       "    </tr>\n",
       "    <tr>\n",
       "      <th>1356</th>\n",
       "      <td>2017</td>\n",
       "      <td>1.99</td>\n",
       "      <td>1.99</td>\n",
       "      <td>2.20</td>\n",
       "      <td>1.90</td>\n",
       "      <td>283.35K</td>\n",
       "      <td>0.00</td>\n",
       "    </tr>\n",
       "  </tbody>\n",
       "</table>\n",
       "<p>1357 rows × 7 columns</p>\n",
       "</div>"
      ],
      "text/plain": [
       "      Year  Price(in dollars)    Open    High     Low     Vol.  Change%\n",
       "0     2021             303.29  304.31  307.62  298.53    2.26M    -0.33\n",
       "1     2021             304.31  302.60  327.62  301.19    2.86M     0.58\n",
       "2     2021             302.57  302.55  303.09  292.85    1.25M    -0.19\n",
       "3     2021             303.15  298.91  305.01  296.16    1.81M     1.42\n",
       "4     2021             298.89  293.51  301.15  281.68    1.98M     1.83\n",
       "...    ...                ...     ...     ...     ...      ...      ...\n",
       "1352  2017               1.68    1.49    1.74    1.49  166.01K    12.75\n",
       "1353  2017               1.49    1.66    1.70    1.34  456.48K   -10.24\n",
       "1354  2017               1.66    1.71    1.93    1.58  256.71K    -2.92\n",
       "1355  2017               1.71    1.99    2.02    1.60  483.23K   -14.07\n",
       "1356  2017               1.99    1.99    2.20    1.90  283.35K     0.00\n",
       "\n",
       "[1357 rows x 7 columns]"
      ]
     },
     "execution_count": 787,
     "metadata": {},
     "output_type": "execute_result"
    }
   ],
   "source": [
    "coin.drop(['Date'],axis=1)"
   ]
  },
  {
   "cell_type": "code",
   "execution_count": 788,
   "metadata": {},
   "outputs": [
    {
     "data": {
      "text/plain": [
       "Date                  object\n",
       "Year                  object\n",
       "Price(in dollars)    float64\n",
       "Open                 float64\n",
       "High                 float64\n",
       "Low                  float64\n",
       "Vol.                  object\n",
       "Change%              float64\n",
       "dtype: object"
      ]
     },
     "execution_count": 788,
     "metadata": {},
     "output_type": "execute_result"
    }
   ],
   "source": [
    "coin.dtypes"
   ]
  },
  {
   "cell_type": "code",
   "execution_count": null,
   "metadata": {},
   "outputs": [],
   "source": []
  },
  {
   "cell_type": "code",
   "execution_count": 789,
   "metadata": {},
   "outputs": [
    {
     "data": {
      "text/plain": [
       "0       2.26e+06\n",
       "1       2.86e+06\n",
       "2       1.25e+06\n",
       "3       1.81e+06\n",
       "4       1.98e+06\n",
       "          ...   \n",
       "1352      166010\n",
       "1353      456480\n",
       "1354      256710\n",
       "1355      483230\n",
       "1356      283350\n",
       "Name: Vol., Length: 1357, dtype: object"
      ]
     },
     "execution_count": 789,
     "metadata": {},
     "output_type": "execute_result"
    }
   ],
   "source": [
    "\n",
    "\n",
    "for x in range(coin['Vol.'].shape[0]):\n",
    "    val = coin[\"Vol.\"].iloc[x]\n",
    "    if \"M\" in val:\n",
    "        #print(x[:-1])\n",
    "        coin[\"Vol.\"].iloc[x] = float(val[:-1]) * 1000000\n",
    "        pass\n",
    "    elif \"K\" in val:\n",
    "        #print(val[:-1] )\n",
    "        coin[\"Vol.\"].iloc[x] = float(val[:-1]) * 1000\n",
    "coin[\"Vol.\"]"
   ]
  },
  {
   "cell_type": "code",
   "execution_count": 790,
   "metadata": {},
   "outputs": [
    {
     "data": {
      "text/plain": [
       "<Figure size 1872x432 with 0 Axes>"
      ]
     },
     "metadata": {},
     "output_type": "display_data"
    },
    {
     "data": {
      "image/png": "[encoded data removed]",
      "text/plain": [
       "<Figure size 432x288 with 1 Axes>"
      ]
     },
     "metadata": {
      "needs_background": "light"
     },
     "output_type": "display_data"
    }
   ],
   "source": [
    "mp.figure(figsize=(26,6))\n",
    "\n",
    "df = pd.DataFrame(coin.groupby(['Vol.'])['Price(in dollars)'].mean().sort_values(ascending = False))\n",
    "df.plot.bar()\n",
    "mp.title('Volume vs Average Price')\n",
    "mp.show()\n",
    "\n"
   ]
  },
  {
   "cell_type": "code",
   "execution_count": 791,
   "metadata": {},
   "outputs": [
    {
     "data": {
      "text/plain": [
       "0       2.26e+06\n",
       "1       2.86e+06\n",
       "2       1.25e+06\n",
       "3       1.81e+06\n",
       "4       1.98e+06\n",
       "          ...   \n",
       "1352      166010\n",
       "1353      456480\n",
       "1354      256710\n",
       "1355      483230\n",
       "1356      283350\n",
       "Name: Vol., Length: 1357, dtype: object"
      ]
     },
     "execution_count": 791,
     "metadata": {},
     "output_type": "execute_result"
    }
   ],
   "source": [
    "coin['Vol.']"
   ]
  },
  {
   "cell_type": "code",
   "execution_count": null,
   "metadata": {},
   "outputs": [],
   "source": []
  },
  {
   "cell_type": "code",
   "execution_count": null,
   "metadata": {},
   "outputs": [],
   "source": []
  },
  {
   "cell_type": "code",
   "execution_count": 792,
   "metadata": {},
   "outputs": [
    {
     "data": {
      "text/plain": [
       "['Price(in dollars)', 'Open', 'High', 'Low', 'Change%']"
      ]
     },
     "execution_count": 792,
     "metadata": {},
     "output_type": "execute_result"
    }
   ],
   "source": [
    "# Find correlation between cotninuos variables\n",
    "num_cols = []\n",
    "# cat_cols = []\n",
    "for col in coin.columns:\n",
    "    if coin[col].dtype in ['float64']:\n",
    "        num_cols.append(col)\n",
    "    else:\n",
    "        pass\n",
    "num_cols"
   ]
  },
  {
   "cell_type": "code",
   "execution_count": 793,
   "metadata": {},
   "outputs": [
    {
     "data": {
      "text/html": [
       "<style  type=\"text/css\" >\n",
       "    #T_b4811e6d_0724_11ec_81d8_54bf645ae20arow0_col0 {\n",
       "            background-color:  #b40426;\n",
       "            color:  #f1f1f1;\n",
       "        }    #T_b4811e6d_0724_11ec_81d8_54bf645ae20arow0_col1 {\n",
       "            background-color:  #b50927;\n",
       "            color:  #f1f1f1;\n",
       "        }    #T_b4811e6d_0724_11ec_81d8_54bf645ae20arow0_col2 {\n",
       "            background-color:  #b40426;\n",
       "            color:  #f1f1f1;\n",
       "        }    #T_b4811e6d_0724_11ec_81d8_54bf645ae20arow0_col3 {\n",
       "            background-color:  #b40426;\n",
       "            color:  #f1f1f1;\n",
       "        }    #T_b4811e6d_0724_11ec_81d8_54bf645ae20arow0_col4 {\n",
       "            background-color:  #4961d2;\n",
       "            color:  #f1f1f1;\n",
       "        }    #T_b4811e6d_0724_11ec_81d8_54bf645ae20arow1_col0 {\n",
       "            background-color:  #b50927;\n",
       "            color:  #f1f1f1;\n",
       "        }    #T_b4811e6d_0724_11ec_81d8_54bf645ae20arow1_col1 {\n",
       "            background-color:  #b40426;\n",
       "            color:  #f1f1f1;\n",
       "        }    #T_b4811e6d_0724_11ec_81d8_54bf645ae20arow1_col2 {\n",
       "            background-color:  #b40426;\n",
       "            color:  #f1f1f1;\n",
       "        }    #T_b4811e6d_0724_11ec_81d8_54bf645ae20arow1_col3 {\n",
       "            background-color:  #b40426;\n",
       "            color:  #f1f1f1;\n",
       "        }    #T_b4811e6d_0724_11ec_81d8_54bf645ae20arow1_col4 {\n",
       "            background-color:  #3b4cc0;\n",
       "            color:  #f1f1f1;\n",
       "        }    #T_b4811e6d_0724_11ec_81d8_54bf645ae20arow2_col0 {\n",
       "            background-color:  #b40426;\n",
       "            color:  #f1f1f1;\n",
       "        }    #T_b4811e6d_0724_11ec_81d8_54bf645ae20arow2_col1 {\n",
       "            background-color:  #b40426;\n",
       "            color:  #f1f1f1;\n",
       "        }    #T_b4811e6d_0724_11ec_81d8_54bf645ae20arow2_col2 {\n",
       "            background-color:  #b40426;\n",
       "            color:  #f1f1f1;\n",
       "        }    #T_b4811e6d_0724_11ec_81d8_54bf645ae20arow2_col3 {\n",
       "            background-color:  #b40426;\n",
       "            color:  #f1f1f1;\n",
       "        }    #T_b4811e6d_0724_11ec_81d8_54bf645ae20arow2_col4 {\n",
       "            background-color:  #4358cb;\n",
       "            color:  #f1f1f1;\n",
       "        }    #T_b4811e6d_0724_11ec_81d8_54bf645ae20arow3_col0 {\n",
       "            background-color:  #b40426;\n",
       "            color:  #f1f1f1;\n",
       "        }    #T_b4811e6d_0724_11ec_81d8_54bf645ae20arow3_col1 {\n",
       "            background-color:  #b40426;\n",
       "            color:  #f1f1f1;\n",
       "        }    #T_b4811e6d_0724_11ec_81d8_54bf645ae20arow3_col2 {\n",
       "            background-color:  #b40426;\n",
       "            color:  #f1f1f1;\n",
       "        }    #T_b4811e6d_0724_11ec_81d8_54bf645ae20arow3_col3 {\n",
       "            background-color:  #b40426;\n",
       "            color:  #f1f1f1;\n",
       "        }    #T_b4811e6d_0724_11ec_81d8_54bf645ae20arow3_col4 {\n",
       "            background-color:  #4257c9;\n",
       "            color:  #f1f1f1;\n",
       "        }    #T_b4811e6d_0724_11ec_81d8_54bf645ae20arow4_col0 {\n",
       "            background-color:  #3b4cc0;\n",
       "            color:  #f1f1f1;\n",
       "        }    #T_b4811e6d_0724_11ec_81d8_54bf645ae20arow4_col1 {\n",
       "            background-color:  #3b4cc0;\n",
       "            color:  #f1f1f1;\n",
       "        }    #T_b4811e6d_0724_11ec_81d8_54bf645ae20arow4_col2 {\n",
       "            background-color:  #3b4cc0;\n",
       "            color:  #f1f1f1;\n",
       "        }    #T_b4811e6d_0724_11ec_81d8_54bf645ae20arow4_col3 {\n",
       "            background-color:  #3b4cc0;\n",
       "            color:  #f1f1f1;\n",
       "        }    #T_b4811e6d_0724_11ec_81d8_54bf645ae20arow4_col4 {\n",
       "            background-color:  #b40426;\n",
       "            color:  #f1f1f1;\n",
       "        }</style><table id=\"T_b4811e6d_0724_11ec_81d8_54bf645ae20a\" ><thead>    <tr>        <th class=\"blank level0\" ></th>        <th class=\"col_heading level0 col0\" >Price(in dollars)</th>        <th class=\"col_heading level0 col1\" >Open</th>        <th class=\"col_heading level0 col2\" >High</th>        <th class=\"col_heading level0 col3\" >Low</th>        <th class=\"col_heading level0 col4\" >Change%</th>    </tr></thead><tbody>\n",
       "                <tr>\n",
       "                        <th id=\"T_b4811e6d_0724_11ec_81d8_54bf645ae20alevel0_row0\" class=\"row_heading level0 row0\" >Price(in dollars)</th>\n",
       "                        <td id=\"T_b4811e6d_0724_11ec_81d8_54bf645ae20arow0_col0\" class=\"data row0 col0\" >1.000000</td>\n",
       "                        <td id=\"T_b4811e6d_0724_11ec_81d8_54bf645ae20arow0_col1\" class=\"data row0 col1\" >0.995690</td>\n",
       "                        <td id=\"T_b4811e6d_0724_11ec_81d8_54bf645ae20arow0_col2\" class=\"data row0 col2\" >0.998195</td>\n",
       "                        <td id=\"T_b4811e6d_0724_11ec_81d8_54bf645ae20arow0_col3\" class=\"data row0 col3\" >0.997941</td>\n",
       "                        <td id=\"T_b4811e6d_0724_11ec_81d8_54bf645ae20arow0_col4\" class=\"data row0 col4\" >0.033703</td>\n",
       "            </tr>\n",
       "            <tr>\n",
       "                        <th id=\"T_b4811e6d_0724_11ec_81d8_54bf645ae20alevel0_row1\" class=\"row_heading level0 row1\" >Open</th>\n",
       "                        <td id=\"T_b4811e6d_0724_11ec_81d8_54bf645ae20arow1_col0\" class=\"data row1 col0\" >0.995690</td>\n",
       "                        <td id=\"T_b4811e6d_0724_11ec_81d8_54bf645ae20arow1_col1\" class=\"data row1 col1\" >1.000000</td>\n",
       "                        <td id=\"T_b4811e6d_0724_11ec_81d8_54bf645ae20arow1_col2\" class=\"data row1 col2\" >0.998119</td>\n",
       "                        <td id=\"T_b4811e6d_0724_11ec_81d8_54bf645ae20arow1_col3\" class=\"data row1 col3\" >0.996853</td>\n",
       "                        <td id=\"T_b4811e6d_0724_11ec_81d8_54bf645ae20arow1_col4\" class=\"data row1 col4\" >-0.015946</td>\n",
       "            </tr>\n",
       "            <tr>\n",
       "                        <th id=\"T_b4811e6d_0724_11ec_81d8_54bf645ae20alevel0_row2\" class=\"row_heading level0 row2\" >High</th>\n",
       "                        <td id=\"T_b4811e6d_0724_11ec_81d8_54bf645ae20arow2_col0\" class=\"data row2 col0\" >0.998195</td>\n",
       "                        <td id=\"T_b4811e6d_0724_11ec_81d8_54bf645ae20arow2_col1\" class=\"data row2 col1\" >0.998119</td>\n",
       "                        <td id=\"T_b4811e6d_0724_11ec_81d8_54bf645ae20arow2_col2\" class=\"data row2 col2\" >1.000000</td>\n",
       "                        <td id=\"T_b4811e6d_0724_11ec_81d8_54bf645ae20arow2_col3\" class=\"data row2 col3\" >0.996244</td>\n",
       "                        <td id=\"T_b4811e6d_0724_11ec_81d8_54bf645ae20arow2_col4\" class=\"data row2 col4\" >0.014344</td>\n",
       "            </tr>\n",
       "            <tr>\n",
       "                        <th id=\"T_b4811e6d_0724_11ec_81d8_54bf645ae20alevel0_row3\" class=\"row_heading level0 row3\" >Low</th>\n",
       "                        <td id=\"T_b4811e6d_0724_11ec_81d8_54bf645ae20arow3_col0\" class=\"data row3 col0\" >0.997941</td>\n",
       "                        <td id=\"T_b4811e6d_0724_11ec_81d8_54bf645ae20arow3_col1\" class=\"data row3 col1\" >0.996853</td>\n",
       "                        <td id=\"T_b4811e6d_0724_11ec_81d8_54bf645ae20arow3_col2\" class=\"data row3 col2\" >0.996244</td>\n",
       "                        <td id=\"T_b4811e6d_0724_11ec_81d8_54bf645ae20arow3_col3\" class=\"data row3 col3\" >1.000000</td>\n",
       "                        <td id=\"T_b4811e6d_0724_11ec_81d8_54bf645ae20arow3_col4\" class=\"data row3 col4\" >0.010074</td>\n",
       "            </tr>\n",
       "            <tr>\n",
       "                        <th id=\"T_b4811e6d_0724_11ec_81d8_54bf645ae20alevel0_row4\" class=\"row_heading level0 row4\" >Change%</th>\n",
       "                        <td id=\"T_b4811e6d_0724_11ec_81d8_54bf645ae20arow4_col0\" class=\"data row4 col0\" >0.033703</td>\n",
       "                        <td id=\"T_b4811e6d_0724_11ec_81d8_54bf645ae20arow4_col1\" class=\"data row4 col1\" >-0.015946</td>\n",
       "                        <td id=\"T_b4811e6d_0724_11ec_81d8_54bf645ae20arow4_col2\" class=\"data row4 col2\" >0.014344</td>\n",
       "                        <td id=\"T_b4811e6d_0724_11ec_81d8_54bf645ae20arow4_col3\" class=\"data row4 col3\" >0.010074</td>\n",
       "                        <td id=\"T_b4811e6d_0724_11ec_81d8_54bf645ae20arow4_col4\" class=\"data row4 col4\" >1.000000</td>\n",
       "            </tr>\n",
       "    </tbody></table>"
      ],
      "text/plain": [
       "<pandas.io.formats.style.Styler at 0x154528d9760>"
      ]
     },
     "execution_count": 793,
     "metadata": {},
     "output_type": "execute_result"
    }
   ],
   "source": [
    "corr =coin[num_cols].corr()\n",
    "corr.style.background_gradient(cmap='coolwarm')"
   ]
  },
  {
   "cell_type": "code",
   "execution_count": 794,
   "metadata": {},
   "outputs": [
    {
     "data": {
      "text/html": [
       "<div>\n",
       "<style scoped>\n",
       "    .dataframe tbody tr th:only-of-type {\n",
       "        vertical-align: middle;\n",
       "    }\n",
       "\n",
       "    .dataframe tbody tr th {\n",
       "        vertical-align: top;\n",
       "    }\n",
       "\n",
       "    .dataframe thead th {\n",
       "        text-align: right;\n",
       "    }\n",
       "</style>\n",
       "<table border=\"1\" class=\"dataframe\">\n",
       "  <thead>\n",
       "    <tr style=\"text-align: right;\">\n",
       "      <th></th>\n",
       "      <th>Year</th>\n",
       "      <th>Price(in dollars)</th>\n",
       "      <th>Open</th>\n",
       "      <th>High</th>\n",
       "      <th>Low</th>\n",
       "      <th>Vol.</th>\n",
       "      <th>Change%</th>\n",
       "    </tr>\n",
       "  </thead>\n",
       "  <tbody>\n",
       "    <tr>\n",
       "      <th>0</th>\n",
       "      <td>2021</td>\n",
       "      <td>303.29</td>\n",
       "      <td>304.31</td>\n",
       "      <td>307.62</td>\n",
       "      <td>298.53</td>\n",
       "      <td>2.26e+06</td>\n",
       "      <td>-0.33</td>\n",
       "    </tr>\n",
       "    <tr>\n",
       "      <th>1</th>\n",
       "      <td>2021</td>\n",
       "      <td>304.31</td>\n",
       "      <td>302.60</td>\n",
       "      <td>327.62</td>\n",
       "      <td>301.19</td>\n",
       "      <td>2.86e+06</td>\n",
       "      <td>0.58</td>\n",
       "    </tr>\n",
       "    <tr>\n",
       "      <th>2</th>\n",
       "      <td>2021</td>\n",
       "      <td>302.57</td>\n",
       "      <td>302.55</td>\n",
       "      <td>303.09</td>\n",
       "      <td>292.85</td>\n",
       "      <td>1.25e+06</td>\n",
       "      <td>-0.19</td>\n",
       "    </tr>\n",
       "    <tr>\n",
       "      <th>3</th>\n",
       "      <td>2021</td>\n",
       "      <td>303.15</td>\n",
       "      <td>298.91</td>\n",
       "      <td>305.01</td>\n",
       "      <td>296.16</td>\n",
       "      <td>1.81e+06</td>\n",
       "      <td>1.42</td>\n",
       "    </tr>\n",
       "    <tr>\n",
       "      <th>4</th>\n",
       "      <td>2021</td>\n",
       "      <td>298.89</td>\n",
       "      <td>293.51</td>\n",
       "      <td>301.15</td>\n",
       "      <td>281.68</td>\n",
       "      <td>1.98e+06</td>\n",
       "      <td>1.83</td>\n",
       "    </tr>\n",
       "  </tbody>\n",
       "</table>\n",
       "</div>"
      ],
      "text/plain": [
       "   Year  Price(in dollars)    Open    High     Low      Vol.  Change%\n",
       "0  2021             303.29  304.31  307.62  298.53  2.26e+06    -0.33\n",
       "1  2021             304.31  302.60  327.62  301.19  2.86e+06     0.58\n",
       "2  2021             302.57  302.55  303.09  292.85  1.25e+06    -0.19\n",
       "3  2021             303.15  298.91  305.01  296.16  1.81e+06     1.42\n",
       "4  2021             298.89  293.51  301.15  281.68  1.98e+06     1.83"
      ]
     },
     "execution_count": 794,
     "metadata": {},
     "output_type": "execute_result"
    }
   ],
   "source": [
    "coin_lr = coin[['Year', 'Price(in dollars)', 'Open', 'High', 'Low', 'Vol.', 'Change%']]\n",
    "coin_lr.head()"
   ]
  },
  {
   "cell_type": "code",
   "execution_count": 795,
   "metadata": {},
   "outputs": [
    {
     "data": {
      "image/png": "[encoded data removed]",
      "text/plain": [
       "<Figure size 1080x1080 with 42 Axes>"
      ]
     },
     "metadata": {
      "needs_background": "light"
     },
     "output_type": "display_data"
    }
   ],
   "source": [
    "sns.pairplot(coin_lr)\n",
    "mp.show()"
   ]
  },
  {
   "cell_type": "code",
   "execution_count": 796,
   "metadata": {},
   "outputs": [],
   "source": [
    "from sklearn.model_selection import train_test_split\n",
    "\n",
    "np.random.seed(0)\n",
    "df_train, df_test = train_test_split(coin_lr, train_size = 0.7, test_size = 0.3, random_state = 100)"
   ]
  },
  {
   "cell_type": "code",
   "execution_count": 797,
   "metadata": {},
   "outputs": [],
   "source": [
    "from sklearn.preprocessing import MinMaxScaler\n",
    "\n",
    "scaler = MinMaxScaler()\n",
    "num_vars = ['Year', 'Price(in dollars)', 'Open', 'High', 'Low', 'Vol.', 'Change%']\n",
    "df_train[num_vars] = scaler.fit_transform(df_train[num_vars])"
   ]
  },
  {
   "cell_type": "code",
   "execution_count": 798,
   "metadata": {},
   "outputs": [
    {
     "data": {
      "text/html": [
       "<div>\n",
       "<style scoped>\n",
       "    .dataframe tbody tr th:only-of-type {\n",
       "        vertical-align: middle;\n",
       "    }\n",
       "\n",
       "    .dataframe tbody tr th {\n",
       "        vertical-align: top;\n",
       "    }\n",
       "\n",
       "    .dataframe thead th {\n",
       "        text-align: right;\n",
       "    }\n",
       "</style>\n",
       "<table border=\"1\" class=\"dataframe\">\n",
       "  <thead>\n",
       "    <tr style=\"text-align: right;\">\n",
       "      <th></th>\n",
       "      <th>Price(in dollars)</th>\n",
       "    </tr>\n",
       "  </thead>\n",
       "  <tbody>\n",
       "    <tr>\n",
       "      <th>count</th>\n",
       "      <td>705.000000</td>\n",
       "    </tr>\n",
       "    <tr>\n",
       "      <th>mean</th>\n",
       "      <td>57.852791</td>\n",
       "    </tr>\n",
       "    <tr>\n",
       "      <th>std</th>\n",
       "      <td>97.382357</td>\n",
       "    </tr>\n",
       "    <tr>\n",
       "      <th>min</th>\n",
       "      <td>1.490000</td>\n",
       "    </tr>\n",
       "    <tr>\n",
       "      <th>25%</th>\n",
       "      <td>11.440000</td>\n",
       "    </tr>\n",
       "    <tr>\n",
       "      <th>50%</th>\n",
       "      <td>18.315000</td>\n",
       "    </tr>\n",
       "    <tr>\n",
       "      <th>75%</th>\n",
       "      <td>34.500000</td>\n",
       "    </tr>\n",
       "    <tr>\n",
       "      <th>max</th>\n",
       "      <td>619.840000</td>\n",
       "    </tr>\n",
       "  </tbody>\n",
       "</table>\n",
       "</div>"
      ],
      "text/plain": [
       "       Price(in dollars)\n",
       "count         705.000000\n",
       "mean           57.852791\n",
       "std            97.382357\n",
       "min             1.490000\n",
       "25%            11.440000\n",
       "50%            18.315000\n",
       "75%            34.500000\n",
       "max           619.840000"
      ]
     },
     "execution_count": 798,
     "metadata": {},
     "output_type": "execute_result"
    }
   ],
   "source": [
    "df.describe()"
   ]
  },
  {
   "cell_type": "code",
   "execution_count": 799,
   "metadata": {},
   "outputs": [],
   "source": [
    "#Dividing data into X and y variables\n",
    "y_train = df_train.pop('Price(in dollars)')\n",
    "X_train = df_train"
   ]
  },
  {
   "cell_type": "code",
   "execution_count": 800,
   "metadata": {},
   "outputs": [],
   "source": [
    "#model training\n",
    "from sklearn.feature_selection import RFE\n",
    "from sklearn.linear_model import LinearRegression\n",
    "import statsmodels.api as sm \n",
    "from statsmodels.stats.outliers_influence import variance_inflation_factor"
   ]
  },
  {
   "cell_type": "code",
   "execution_count": 801,
   "metadata": {},
   "outputs": [
    {
     "data": {
      "text/html": [
       "<div>\n",
       "<style scoped>\n",
       "    .dataframe tbody tr th:only-of-type {\n",
       "        vertical-align: middle;\n",
       "    }\n",
       "\n",
       "    .dataframe tbody tr th {\n",
       "        vertical-align: top;\n",
       "    }\n",
       "\n",
       "    .dataframe thead th {\n",
       "        text-align: right;\n",
       "    }\n",
       "</style>\n",
       "<table border=\"1\" class=\"dataframe\">\n",
       "  <thead>\n",
       "    <tr style=\"text-align: right;\">\n",
       "      <th></th>\n",
       "      <th>Year</th>\n",
       "      <th>Price(in dollars)</th>\n",
       "      <th>Open</th>\n",
       "      <th>High</th>\n",
       "      <th>Low</th>\n",
       "      <th>Vol.</th>\n",
       "      <th>Change%</th>\n",
       "    </tr>\n",
       "  </thead>\n",
       "  <tbody>\n",
       "    <tr>\n",
       "      <th>0</th>\n",
       "      <td>2021</td>\n",
       "      <td>303.29</td>\n",
       "      <td>304.31</td>\n",
       "      <td>307.62</td>\n",
       "      <td>298.53</td>\n",
       "      <td>2.26e+06</td>\n",
       "      <td>-0.33</td>\n",
       "    </tr>\n",
       "    <tr>\n",
       "      <th>1</th>\n",
       "      <td>2021</td>\n",
       "      <td>304.31</td>\n",
       "      <td>302.60</td>\n",
       "      <td>327.62</td>\n",
       "      <td>301.19</td>\n",
       "      <td>2.86e+06</td>\n",
       "      <td>0.58</td>\n",
       "    </tr>\n",
       "    <tr>\n",
       "      <th>2</th>\n",
       "      <td>2021</td>\n",
       "      <td>302.57</td>\n",
       "      <td>302.55</td>\n",
       "      <td>303.09</td>\n",
       "      <td>292.85</td>\n",
       "      <td>1.25e+06</td>\n",
       "      <td>-0.19</td>\n",
       "    </tr>\n",
       "    <tr>\n",
       "      <th>3</th>\n",
       "      <td>2021</td>\n",
       "      <td>303.15</td>\n",
       "      <td>298.91</td>\n",
       "      <td>305.01</td>\n",
       "      <td>296.16</td>\n",
       "      <td>1.81e+06</td>\n",
       "      <td>1.42</td>\n",
       "    </tr>\n",
       "    <tr>\n",
       "      <th>4</th>\n",
       "      <td>2021</td>\n",
       "      <td>298.89</td>\n",
       "      <td>293.51</td>\n",
       "      <td>301.15</td>\n",
       "      <td>281.68</td>\n",
       "      <td>1.98e+06</td>\n",
       "      <td>1.83</td>\n",
       "    </tr>\n",
       "    <tr>\n",
       "      <th>...</th>\n",
       "      <td>...</td>\n",
       "      <td>...</td>\n",
       "      <td>...</td>\n",
       "      <td>...</td>\n",
       "      <td>...</td>\n",
       "      <td>...</td>\n",
       "      <td>...</td>\n",
       "    </tr>\n",
       "    <tr>\n",
       "      <th>1352</th>\n",
       "      <td>2017</td>\n",
       "      <td>1.68</td>\n",
       "      <td>1.49</td>\n",
       "      <td>1.74</td>\n",
       "      <td>1.49</td>\n",
       "      <td>166010</td>\n",
       "      <td>12.75</td>\n",
       "    </tr>\n",
       "    <tr>\n",
       "      <th>1353</th>\n",
       "      <td>2017</td>\n",
       "      <td>1.49</td>\n",
       "      <td>1.66</td>\n",
       "      <td>1.70</td>\n",
       "      <td>1.34</td>\n",
       "      <td>456480</td>\n",
       "      <td>-10.24</td>\n",
       "    </tr>\n",
       "    <tr>\n",
       "      <th>1354</th>\n",
       "      <td>2017</td>\n",
       "      <td>1.66</td>\n",
       "      <td>1.71</td>\n",
       "      <td>1.93</td>\n",
       "      <td>1.58</td>\n",
       "      <td>256710</td>\n",
       "      <td>-2.92</td>\n",
       "    </tr>\n",
       "    <tr>\n",
       "      <th>1355</th>\n",
       "      <td>2017</td>\n",
       "      <td>1.71</td>\n",
       "      <td>1.99</td>\n",
       "      <td>2.02</td>\n",
       "      <td>1.60</td>\n",
       "      <td>483230</td>\n",
       "      <td>-14.07</td>\n",
       "    </tr>\n",
       "    <tr>\n",
       "      <th>1356</th>\n",
       "      <td>2017</td>\n",
       "      <td>1.99</td>\n",
       "      <td>1.99</td>\n",
       "      <td>2.20</td>\n",
       "      <td>1.90</td>\n",
       "      <td>283350</td>\n",
       "      <td>0.00</td>\n",
       "    </tr>\n",
       "  </tbody>\n",
       "</table>\n",
       "<p>1357 rows × 7 columns</p>\n",
       "</div>"
      ],
      "text/plain": [
       "      Year  Price(in dollars)    Open    High     Low      Vol.  Change%\n",
       "0     2021             303.29  304.31  307.62  298.53  2.26e+06    -0.33\n",
       "1     2021             304.31  302.60  327.62  301.19  2.86e+06     0.58\n",
       "2     2021             302.57  302.55  303.09  292.85  1.25e+06    -0.19\n",
       "3     2021             303.15  298.91  305.01  296.16  1.81e+06     1.42\n",
       "4     2021             298.89  293.51  301.15  281.68  1.98e+06     1.83\n",
       "...    ...                ...     ...     ...     ...       ...      ...\n",
       "1352  2017               1.68    1.49    1.74    1.49    166010    12.75\n",
       "1353  2017               1.49    1.66    1.70    1.34    456480   -10.24\n",
       "1354  2017               1.66    1.71    1.93    1.58    256710    -2.92\n",
       "1355  2017               1.71    1.99    2.02    1.60    483230   -14.07\n",
       "1356  2017               1.99    1.99    2.20    1.90    283350     0.00\n",
       "\n",
       "[1357 rows x 7 columns]"
      ]
     },
     "execution_count": 801,
     "metadata": {},
     "output_type": "execute_result"
    }
   ],
   "source": [
    "coin.drop(['Date'], axis = 1)"
   ]
  },
  {
   "cell_type": "code",
   "execution_count": 802,
   "metadata": {},
   "outputs": [
    {
     "data": {
      "image/png": "[encoded data removed]",
      "text/plain": [
       "<Figure size 2160x1800 with 2 Axes>"
      ]
     },
     "metadata": {
      "needs_background": "light"
     },
     "output_type": "display_data"
    }
   ],
   "source": [
    "#Correlation using heatmap\n",
    "mp.figure(figsize = (30, 25))\n",
    "corr_vars = ['Year', 'Open', 'High', 'Low', 'Vol.', 'Change%']\n",
    "sns.heatmap(df_train[corr_vars].corr(), annot = True, cmap=\"YlGnBu\")\n",
    "mp.show()"
   ]
  },
  {
   "cell_type": "markdown",
   "metadata": {},
   "source": [
    "Low,high ,open are highly corellated with price"
   ]
  },
  {
   "cell_type": "code",
   "execution_count": 803,
   "metadata": {},
   "outputs": [
    {
     "data": {
      "text/plain": [
       "LinearRegression()"
      ]
     },
     "execution_count": 803,
     "metadata": {},
     "output_type": "execute_result"
    }
   ],
   "source": [
    "from sklearn.linear_model import LinearRegression \n",
    "\n",
    "lm = LinearRegression() \n",
    "\n",
    "lm.fit(X_train,y_train) "
   ]
  },
  {
   "cell_type": "code",
   "execution_count": 804,
   "metadata": {},
   "outputs": [],
   "source": [
    "rfe = RFE(lm, 10)\n",
    "rfe = rfe.fit(X_train, y_train)"
   ]
  },
  {
   "cell_type": "code",
   "execution_count": 805,
   "metadata": {},
   "outputs": [
    {
     "data": {
      "text/plain": [
       "[('Year', True, 1),\n",
       " ('Open', True, 1),\n",
       " ('High', True, 1),\n",
       " ('Low', True, 1),\n",
       " ('Vol.', True, 1),\n",
       " ('Change%', True, 1)]"
      ]
     },
     "execution_count": 805,
     "metadata": {},
     "output_type": "execute_result"
    }
   ],
   "source": [
    "list(zip(X_train.columns,rfe.support_,rfe.ranking_))"
   ]
  },
  {
   "cell_type": "code",
   "execution_count": 806,
   "metadata": {},
   "outputs": [
    {
     "data": {
      "text/plain": [
       "array([ True,  True,  True,  True,  True,  True])"
      ]
     },
     "execution_count": 806,
     "metadata": {},
     "output_type": "execute_result"
    }
   ],
   "source": [
    "rfe.support_"
   ]
  },
  {
   "cell_type": "code",
   "execution_count": 807,
   "metadata": {},
   "outputs": [
    {
     "data": {
      "text/plain": [
       "Index(['Year', 'Open', 'High', 'Low', 'Vol.', 'Change%'], dtype='object')"
      ]
     },
     "execution_count": 807,
     "metadata": {},
     "output_type": "execute_result"
    }
   ],
   "source": [
    "X_train.columns[rfe.support_]"
   ]
  },
  {
   "cell_type": "code",
   "execution_count": 808,
   "metadata": {},
   "outputs": [
    {
     "data": {
      "text/html": [
       "<div>\n",
       "<style scoped>\n",
       "    .dataframe tbody tr th:only-of-type {\n",
       "        vertical-align: middle;\n",
       "    }\n",
       "\n",
       "    .dataframe tbody tr th {\n",
       "        vertical-align: top;\n",
       "    }\n",
       "\n",
       "    .dataframe thead th {\n",
       "        text-align: right;\n",
       "    }\n",
       "</style>\n",
       "<table border=\"1\" class=\"dataframe\">\n",
       "  <thead>\n",
       "    <tr style=\"text-align: right;\">\n",
       "      <th></th>\n",
       "      <th>Year</th>\n",
       "      <th>Open</th>\n",
       "      <th>High</th>\n",
       "      <th>Low</th>\n",
       "      <th>Vol.</th>\n",
       "      <th>Change%</th>\n",
       "    </tr>\n",
       "  </thead>\n",
       "  <tbody>\n",
       "    <tr>\n",
       "      <th>28</th>\n",
       "      <td>1.00</td>\n",
       "      <td>0.427352</td>\n",
       "      <td>0.454758</td>\n",
       "      <td>0.456959</td>\n",
       "      <td>0.094045</td>\n",
       "      <td>0.416849</td>\n",
       "    </tr>\n",
       "    <tr>\n",
       "      <th>325</th>\n",
       "      <td>0.75</td>\n",
       "      <td>0.028855</td>\n",
       "      <td>0.028943</td>\n",
       "      <td>0.026472</td>\n",
       "      <td>0.236894</td>\n",
       "      <td>0.324187</td>\n",
       "    </tr>\n",
       "    <tr>\n",
       "      <th>542</th>\n",
       "      <td>0.75</td>\n",
       "      <td>0.024794</td>\n",
       "      <td>0.024663</td>\n",
       "      <td>0.026504</td>\n",
       "      <td>0.221988</td>\n",
       "      <td>0.388183</td>\n",
       "    </tr>\n",
       "    <tr>\n",
       "      <th>882</th>\n",
       "      <td>0.50</td>\n",
       "      <td>0.012167</td>\n",
       "      <td>0.011853</td>\n",
       "      <td>0.012728</td>\n",
       "      <td>0.122615</td>\n",
       "      <td>0.362584</td>\n",
       "    </tr>\n",
       "    <tr>\n",
       "      <th>1185</th>\n",
       "      <td>0.25</td>\n",
       "      <td>0.020318</td>\n",
       "      <td>0.020093</td>\n",
       "      <td>0.020933</td>\n",
       "      <td>0.110607</td>\n",
       "      <td>0.379416</td>\n",
       "    </tr>\n",
       "  </tbody>\n",
       "</table>\n",
       "</div>"
      ],
      "text/plain": [
       "      Year      Open      High       Low      Vol.   Change%\n",
       "28    1.00  0.427352  0.454758  0.456959  0.094045  0.416849\n",
       "325   0.75  0.028855  0.028943  0.026472  0.236894  0.324187\n",
       "542   0.75  0.024794  0.024663  0.026504  0.221988  0.388183\n",
       "882   0.50  0.012167  0.011853  0.012728  0.122615  0.362584\n",
       "1185  0.25  0.020318  0.020093  0.020933  0.110607  0.379416"
      ]
     },
     "execution_count": 808,
     "metadata": {},
     "output_type": "execute_result"
    }
   ],
   "source": [
    "X_train_rfe = X_train[X_train.columns[rfe.support_]]\n",
    "X_train_rfe.head()"
   ]
  },
  {
   "cell_type": "code",
   "execution_count": 809,
   "metadata": {},
   "outputs": [],
   "source": [
    "def build_model(X,y):\n",
    "    X = sm.add_constant(X) #Adding the constant\n",
    "    lm = sm.OLS(y,X).fit() # fitting the model\n",
    "    print(lm.summary()) # model summary\n",
    "    return X\n",
    "    \n",
    "def checkVIF(X):\n",
    "    vif = pd.DataFrame()\n",
    "    vif['Features'] = X.columns\n",
    "    vif['VIF'] = [variance_inflation_factor(X.values, i) for i in range(X.shape[1])]\n",
    "    vif['VIF'] = round(vif['VIF'], 2)\n",
    "    vif = vif.sort_values(by = \"VIF\", ascending = False)\n",
    "    return(vif)"
   ]
  },
  {
   "cell_type": "code",
   "execution_count": 810,
   "metadata": {},
   "outputs": [
    {
     "name": "stdout",
     "output_type": "stream",
     "text": [
      "                            OLS Regression Results                            \n",
      "==============================================================================\n",
      "Dep. Variable:      Price(in dollars)   R-squared:                       0.999\n",
      "Model:                            OLS   Adj. R-squared:                  0.999\n",
      "Method:                 Least Squares   F-statistic:                 1.728e+05\n",
      "Date:                Fri, 27 Aug 2021   Prob (F-statistic):               0.00\n",
      "Time:                        16:21:26   Log-Likelihood:                 3586.1\n",
      "No. Observations:                 949   AIC:                            -7158.\n",
      "Df Residuals:                     942   BIC:                            -7124.\n",
      "Df Model:                           6                                         \n",
      "Covariance Type:            nonrobust                                         \n",
      "==============================================================================\n",
      "                 coef    std err          t      P>|t|      [0.025      0.975]\n",
      "------------------------------------------------------------------------------\n",
      "const         -0.0062      0.001     -4.325      0.000      -0.009      -0.003\n",
      "Year           0.0011      0.001      1.124      0.261      -0.001       0.003\n",
      "Open          -0.5128      0.023    -22.252      0.000      -0.558      -0.468\n",
      "High           0.9170      0.018     49.822      0.000       0.881       0.953\n",
      "Low            0.5627      0.018     31.538      0.000       0.528       0.598\n",
      "Vol.          -0.0009      0.002     -0.439      0.661      -0.005       0.003\n",
      "Change%        0.0153      0.003      4.379      0.000       0.008       0.022\n",
      "==============================================================================\n",
      "Omnibus:                      315.968   Durbin-Watson:                   2.096\n",
      "Prob(Omnibus):                  0.000   Jarque-Bera (JB):            49901.591\n",
      "Skew:                          -0.250   Prob(JB):                         0.00\n",
      "Kurtosis:                      38.521   Cond. No.                         193.\n",
      "==============================================================================\n",
      "\n",
      "Warnings:\n",
      "[1] Standard Errors assume that the covariance matrix of the errors is correctly specified.\n"
     ]
    }
   ],
   "source": [
    "_train_new = build_model(X_train_rfe,y_train)"
   ]
  },
  {
   "cell_type": "code",
   "execution_count": 811,
   "metadata": {},
   "outputs": [
    {
     "data": {
      "text/html": [
       "<div>\n",
       "<style scoped>\n",
       "    .dataframe tbody tr th:only-of-type {\n",
       "        vertical-align: middle;\n",
       "    }\n",
       "\n",
       "    .dataframe tbody tr th {\n",
       "        vertical-align: top;\n",
       "    }\n",
       "\n",
       "    .dataframe thead th {\n",
       "        text-align: right;\n",
       "    }\n",
       "</style>\n",
       "<table border=\"1\" class=\"dataframe\">\n",
       "  <thead>\n",
       "    <tr style=\"text-align: right;\">\n",
       "      <th></th>\n",
       "      <th>Year</th>\n",
       "      <th>Open</th>\n",
       "      <th>High</th>\n",
       "      <th>Low</th>\n",
       "      <th>Vol.</th>\n",
       "      <th>Change%</th>\n",
       "    </tr>\n",
       "  </thead>\n",
       "  <tbody>\n",
       "    <tr>\n",
       "      <th>28</th>\n",
       "      <td>1.00</td>\n",
       "      <td>0.427352</td>\n",
       "      <td>0.454758</td>\n",
       "      <td>0.456959</td>\n",
       "      <td>0.094045</td>\n",
       "      <td>0.416849</td>\n",
       "    </tr>\n",
       "    <tr>\n",
       "      <th>325</th>\n",
       "      <td>0.75</td>\n",
       "      <td>0.028855</td>\n",
       "      <td>0.028943</td>\n",
       "      <td>0.026472</td>\n",
       "      <td>0.236894</td>\n",
       "      <td>0.324187</td>\n",
       "    </tr>\n",
       "    <tr>\n",
       "      <th>542</th>\n",
       "      <td>0.75</td>\n",
       "      <td>0.024794</td>\n",
       "      <td>0.024663</td>\n",
       "      <td>0.026504</td>\n",
       "      <td>0.221988</td>\n",
       "      <td>0.388183</td>\n",
       "    </tr>\n",
       "    <tr>\n",
       "      <th>882</th>\n",
       "      <td>0.50</td>\n",
       "      <td>0.012167</td>\n",
       "      <td>0.011853</td>\n",
       "      <td>0.012728</td>\n",
       "      <td>0.122615</td>\n",
       "      <td>0.362584</td>\n",
       "    </tr>\n",
       "    <tr>\n",
       "      <th>1185</th>\n",
       "      <td>0.25</td>\n",
       "      <td>0.020318</td>\n",
       "      <td>0.020093</td>\n",
       "      <td>0.020933</td>\n",
       "      <td>0.110607</td>\n",
       "      <td>0.379416</td>\n",
       "    </tr>\n",
       "  </tbody>\n",
       "</table>\n",
       "</div>"
      ],
      "text/plain": [
       "      Year      Open      High       Low      Vol.   Change%\n",
       "28    1.00  0.427352  0.454758  0.456959  0.094045  0.416849\n",
       "325   0.75  0.028855  0.028943  0.026472  0.236894  0.324187\n",
       "542   0.75  0.024794  0.024663  0.026504  0.221988  0.388183\n",
       "882   0.50  0.012167  0.011853  0.012728  0.122615  0.362584\n",
       "1185  0.25  0.020318  0.020093  0.020933  0.110607  0.379416"
      ]
     },
     "execution_count": 811,
     "metadata": {},
     "output_type": "execute_result"
    }
   ],
   "source": [
    "X_train_rfe.head()"
   ]
  },
  {
   "cell_type": "code",
   "execution_count": 812,
   "metadata": {},
   "outputs": [],
   "source": [
    "def build_model(X,y):\n",
    "    X = sm.add_constant(X) #Adding the constant\n",
    "    lm = sm.OLS(y,X).fit() # fitting the model\n",
    "    print(lm.summary()) # model summary\n",
    "    return X\n",
    "    \n",
    "def checkVIF(X):\n",
    "    vif = pd.DataFrame()\n",
    "    vif['Features'] = X.columns\n",
    "    vif['VIF'] = [variance_inflation_factor(X.values, i) for i in range(X.shape[1])]\n",
    "    vif['VIF'] = round(vif['VIF'], 2)\n",
    "    vif = vif.sort_values(by = \"VIF\", ascending = False)\n",
    "    return(vif)"
   ]
  },
  {
   "cell_type": "code",
   "execution_count": 813,
   "metadata": {},
   "outputs": [
    {
     "name": "stdout",
     "output_type": "stream",
     "text": [
      "                            OLS Regression Results                            \n",
      "==============================================================================\n",
      "Dep. Variable:      Price(in dollars)   R-squared:                       0.999\n",
      "Model:                            OLS   Adj. R-squared:                  0.999\n",
      "Method:                 Least Squares   F-statistic:                 1.728e+05\n",
      "Date:                Fri, 27 Aug 2021   Prob (F-statistic):               0.00\n",
      "Time:                        16:21:26   Log-Likelihood:                 3586.1\n",
      "No. Observations:                 949   AIC:                            -7158.\n",
      "Df Residuals:                     942   BIC:                            -7124.\n",
      "Df Model:                           6                                         \n",
      "Covariance Type:            nonrobust                                         \n",
      "==============================================================================\n",
      "                 coef    std err          t      P>|t|      [0.025      0.975]\n",
      "------------------------------------------------------------------------------\n",
      "const         -0.0062      0.001     -4.325      0.000      -0.009      -0.003\n",
      "Year           0.0011      0.001      1.124      0.261      -0.001       0.003\n",
      "Open          -0.5128      0.023    -22.252      0.000      -0.558      -0.468\n",
      "High           0.9170      0.018     49.822      0.000       0.881       0.953\n",
      "Low            0.5627      0.018     31.538      0.000       0.528       0.598\n",
      "Vol.          -0.0009      0.002     -0.439      0.661      -0.005       0.003\n",
      "Change%        0.0153      0.003      4.379      0.000       0.008       0.022\n",
      "==============================================================================\n",
      "Omnibus:                      315.968   Durbin-Watson:                   2.096\n",
      "Prob(Omnibus):                  0.000   Jarque-Bera (JB):            49901.591\n",
      "Skew:                          -0.250   Prob(JB):                         0.00\n",
      "Kurtosis:                      38.521   Cond. No.                         193.\n",
      "==============================================================================\n",
      "\n",
      "Warnings:\n",
      "[1] Standard Errors assume that the covariance matrix of the errors is correctly specified.\n"
     ]
    }
   ],
   "source": [
    "X_train_new = build_model(X_train_rfe,y_train)"
   ]
  },
  {
   "cell_type": "markdown",
   "metadata": {},
   "source": [
    "# It can be interpreted that high,low and open have very less impact on thr binance price"
   ]
  },
  {
   "cell_type": "code",
   "execution_count": null,
   "metadata": {},
   "outputs": [],
   "source": []
  },
  {
   "cell_type": "code",
   "execution_count": 814,
   "metadata": {},
   "outputs": [],
   "source": [
    "X_train_new = X_train_rfe.drop([\"High\"], axis = 1)"
   ]
  },
  {
   "cell_type": "code",
   "execution_count": 815,
   "metadata": {},
   "outputs": [
    {
     "data": {
      "text/html": [
       "<div>\n",
       "<style scoped>\n",
       "    .dataframe tbody tr th:only-of-type {\n",
       "        vertical-align: middle;\n",
       "    }\n",
       "\n",
       "    .dataframe tbody tr th {\n",
       "        vertical-align: top;\n",
       "    }\n",
       "\n",
       "    .dataframe thead th {\n",
       "        text-align: right;\n",
       "    }\n",
       "</style>\n",
       "<table border=\"1\" class=\"dataframe\">\n",
       "  <thead>\n",
       "    <tr style=\"text-align: right;\">\n",
       "      <th></th>\n",
       "      <th>Year</th>\n",
       "      <th>Open</th>\n",
       "      <th>High</th>\n",
       "      <th>Low</th>\n",
       "      <th>Vol.</th>\n",
       "      <th>Change%</th>\n",
       "    </tr>\n",
       "  </thead>\n",
       "  <tbody>\n",
       "    <tr>\n",
       "      <th>28</th>\n",
       "      <td>1.00</td>\n",
       "      <td>0.427352</td>\n",
       "      <td>0.454758</td>\n",
       "      <td>0.456959</td>\n",
       "      <td>0.094045</td>\n",
       "      <td>0.416849</td>\n",
       "    </tr>\n",
       "    <tr>\n",
       "      <th>325</th>\n",
       "      <td>0.75</td>\n",
       "      <td>0.028855</td>\n",
       "      <td>0.028943</td>\n",
       "      <td>0.026472</td>\n",
       "      <td>0.236894</td>\n",
       "      <td>0.324187</td>\n",
       "    </tr>\n",
       "    <tr>\n",
       "      <th>542</th>\n",
       "      <td>0.75</td>\n",
       "      <td>0.024794</td>\n",
       "      <td>0.024663</td>\n",
       "      <td>0.026504</td>\n",
       "      <td>0.221988</td>\n",
       "      <td>0.388183</td>\n",
       "    </tr>\n",
       "    <tr>\n",
       "      <th>882</th>\n",
       "      <td>0.50</td>\n",
       "      <td>0.012167</td>\n",
       "      <td>0.011853</td>\n",
       "      <td>0.012728</td>\n",
       "      <td>0.122615</td>\n",
       "      <td>0.362584</td>\n",
       "    </tr>\n",
       "    <tr>\n",
       "      <th>1185</th>\n",
       "      <td>0.25</td>\n",
       "      <td>0.020318</td>\n",
       "      <td>0.020093</td>\n",
       "      <td>0.020933</td>\n",
       "      <td>0.110607</td>\n",
       "      <td>0.379416</td>\n",
       "    </tr>\n",
       "  </tbody>\n",
       "</table>\n",
       "</div>"
      ],
      "text/plain": [
       "      Year      Open      High       Low      Vol.   Change%\n",
       "28    1.00  0.427352  0.454758  0.456959  0.094045  0.416849\n",
       "325   0.75  0.028855  0.028943  0.026472  0.236894  0.324187\n",
       "542   0.75  0.024794  0.024663  0.026504  0.221988  0.388183\n",
       "882   0.50  0.012167  0.011853  0.012728  0.122615  0.362584\n",
       "1185  0.25  0.020318  0.020093  0.020933  0.110607  0.379416"
      ]
     },
     "execution_count": 815,
     "metadata": {},
     "output_type": "execute_result"
    }
   ],
   "source": [
    "X_train_rfe.head()"
   ]
  },
  {
   "cell_type": "code",
   "execution_count": 816,
   "metadata": {},
   "outputs": [
    {
     "name": "stdout",
     "output_type": "stream",
     "text": [
      "                            OLS Regression Results                            \n",
      "==============================================================================\n",
      "Dep. Variable:      Price(in dollars)   R-squared:                       0.997\n",
      "Model:                            OLS   Adj. R-squared:                  0.997\n",
      "Method:                 Least Squares   F-statistic:                 5.696e+04\n",
      "Date:                Fri, 27 Aug 2021   Prob (F-statistic):               0.00\n",
      "Time:                        16:21:27   Log-Likelihood:                 2973.7\n",
      "No. Observations:                 949   AIC:                            -5935.\n",
      "Df Residuals:                     943   BIC:                            -5906.\n",
      "Df Model:                           5                                         \n",
      "Covariance Type:            nonrobust                                         \n",
      "==============================================================================\n",
      "                 coef    std err          t      P>|t|      [0.025      0.975]\n",
      "------------------------------------------------------------------------------\n",
      "const         -0.0375      0.002    -15.238      0.000      -0.042      -0.033\n",
      "Year          -0.0044      0.002     -2.441      0.015      -0.008      -0.001\n",
      "Open           0.2368      0.033      7.118      0.000       0.172       0.302\n",
      "Low            0.7596      0.033     22.911      0.000       0.695       0.825\n",
      "Vol.           0.0298      0.004      7.631      0.000       0.022       0.037\n",
      "Change%        0.0905      0.006     15.051      0.000       0.079       0.102\n",
      "==============================================================================\n",
      "Omnibus:                      835.894   Durbin-Watson:                   2.062\n",
      "Prob(Omnibus):                  0.000   Jarque-Bera (JB):            68813.690\n",
      "Skew:                           3.565   Prob(JB):                         0.00\n",
      "Kurtosis:                      44.103   Cond. No.                         169.\n",
      "==============================================================================\n",
      "\n",
      "Warnings:\n",
      "[1] Standard Errors assume that the covariance matrix of the errors is correctly specified.\n"
     ]
    }
   ],
   "source": [
    "X_train_new = build_model(X_train_new,y_train)"
   ]
  },
  {
   "cell_type": "code",
   "execution_count": 817,
   "metadata": {
    "scrolled": true
   },
   "outputs": [
    {
     "data": {
      "text/html": [
       "<div>\n",
       "<style scoped>\n",
       "    .dataframe tbody tr th:only-of-type {\n",
       "        vertical-align: middle;\n",
       "    }\n",
       "\n",
       "    .dataframe tbody tr th {\n",
       "        vertical-align: top;\n",
       "    }\n",
       "\n",
       "    .dataframe thead th {\n",
       "        text-align: right;\n",
       "    }\n",
       "</style>\n",
       "<table border=\"1\" class=\"dataframe\">\n",
       "  <thead>\n",
       "    <tr style=\"text-align: right;\">\n",
       "      <th></th>\n",
       "      <th>Features</th>\n",
       "      <th>VIF</th>\n",
       "    </tr>\n",
       "  </thead>\n",
       "  <tbody>\n",
       "    <tr>\n",
       "      <th>3</th>\n",
       "      <td>Low</td>\n",
       "      <td>318.20</td>\n",
       "    </tr>\n",
       "    <tr>\n",
       "      <th>2</th>\n",
       "      <td>Open</td>\n",
       "      <td>313.87</td>\n",
       "    </tr>\n",
       "    <tr>\n",
       "      <th>0</th>\n",
       "      <td>const</td>\n",
       "      <td>51.41</td>\n",
       "    </tr>\n",
       "    <tr>\n",
       "      <th>1</th>\n",
       "      <td>Year</td>\n",
       "      <td>2.22</td>\n",
       "    </tr>\n",
       "    <tr>\n",
       "      <th>4</th>\n",
       "      <td>Vol.</td>\n",
       "      <td>1.59</td>\n",
       "    </tr>\n",
       "    <tr>\n",
       "      <th>5</th>\n",
       "      <td>Change%</td>\n",
       "      <td>1.16</td>\n",
       "    </tr>\n",
       "  </tbody>\n",
       "</table>\n",
       "</div>"
      ],
      "text/plain": [
       "  Features     VIF\n",
       "3      Low  318.20\n",
       "2     Open  313.87\n",
       "0    const   51.41\n",
       "1     Year    2.22\n",
       "4     Vol.    1.59\n",
       "5  Change%    1.16"
      ]
     },
     "execution_count": 817,
     "metadata": {},
     "output_type": "execute_result"
    }
   ],
   "source": [
    "#Calculating the Variance Inflation Factor\n",
    "checkVIF(X_train_new)"
   ]
  },
  {
   "cell_type": "code",
   "execution_count": 818,
   "metadata": {},
   "outputs": [],
   "source": [
    "X_train_new = X_train_rfe.drop([\"Open\"], axis = 1)\n"
   ]
  },
  {
   "cell_type": "code",
   "execution_count": 819,
   "metadata": {},
   "outputs": [],
   "source": [
    "X_train_new = X_train_rfe.drop([\"Low\"], axis = 1)\n",
    "X_train_new = X_train_rfe.drop([\"Vol.\"], axis = 1)"
   ]
  },
  {
   "cell_type": "code",
   "execution_count": 820,
   "metadata": {},
   "outputs": [
    {
     "data": {
      "text/plain": [
       "Text(0.5, 0, 'Errors')"
      ]
     },
     "execution_count": 820,
     "metadata": {},
     "output_type": "execute_result"
    },
    {
     "data": {
      "image/png": "[encoded data removed]",
      "text/plain": [
       "<Figure size 432x288 with 1 Axes>"
      ]
     },
     "metadata": {
      "needs_background": "light"
     },
     "output_type": "display_data"
    }
   ],
   "source": [
    "lm = sm.OLS(y_train,X_train_new).fit()\n",
    "y_train_price = lm.predict(X_train_new)\n",
    "# Plot the histogram of the error terms\n",
    "fig = mp.figure()\n",
    "sns.distplot((y_train - y_train_price), bins = 20)\n",
    "fig.suptitle('Error Terms', fontsize = 20)                  # Plot heading \n",
    "mp.xlabel('Errors', fontsize = 18)   "
   ]
  },
  {
   "cell_type": "code",
   "execution_count": null,
   "metadata": {},
   "outputs": [],
   "source": []
  },
  {
   "cell_type": "code",
   "execution_count": 821,
   "metadata": {},
   "outputs": [
    {
     "name": "stdout",
     "output_type": "stream",
     "text": [
      "                            OLS Regression Results                            \n",
      "==============================================================================\n",
      "Dep. Variable:      Price(in dollars)   R-squared:                       0.999\n",
      "Model:                            OLS   Adj. R-squared:                  0.999\n",
      "Method:                 Least Squares   F-statistic:                 2.075e+05\n",
      "Date:                Fri, 27 Aug 2021   Prob (F-statistic):               0.00\n",
      "Time:                        16:21:27   Log-Likelihood:                 3586.0\n",
      "No. Observations:                 949   AIC:                            -7160.\n",
      "Df Residuals:                     943   BIC:                            -7131.\n",
      "Df Model:                           5                                         \n",
      "Covariance Type:            nonrobust                                         \n",
      "==============================================================================\n",
      "                 coef    std err          t      P>|t|      [0.025      0.975]\n",
      "------------------------------------------------------------------------------\n",
      "const         -0.0062      0.001     -4.308      0.000      -0.009      -0.003\n",
      "Year           0.0008      0.001      1.063      0.288      -0.001       0.002\n",
      "Open          -0.5128      0.023    -22.262      0.000      -0.558      -0.468\n",
      "High           0.9147      0.018     51.921      0.000       0.880       0.949\n",
      "Low            0.5653      0.017     33.542      0.000       0.532       0.598\n",
      "Change%        0.0152      0.003      4.358      0.000       0.008       0.022\n",
      "==============================================================================\n",
      "Omnibus:                      315.561   Durbin-Watson:                   2.095\n",
      "Prob(Omnibus):                  0.000   Jarque-Bera (JB):            49683.674\n",
      "Skew:                          -0.248   Prob(JB):                         0.00\n",
      "Kurtosis:                      38.444   Cond. No.                         192.\n",
      "==============================================================================\n",
      "\n",
      "Warnings:\n",
      "[1] Standard Errors assume that the covariance matrix of the errors is correctly specified.\n"
     ]
    }
   ],
   "source": [
    "X_train_new = build_model(X_train_new,y_train)"
   ]
  },
  {
   "cell_type": "code",
   "execution_count": 822,
   "metadata": {},
   "outputs": [
    {
     "data": {
      "text/plain": [
       "Year                  object\n",
       "Price(in dollars)    float64\n",
       "Open                 float64\n",
       "High                 float64\n",
       "Low                  float64\n",
       "Vol.                  object\n",
       "Change%              float64\n",
       "dtype: object"
      ]
     },
     "execution_count": 822,
     "metadata": {},
     "output_type": "execute_result"
    }
   ],
   "source": [
    "coin_lr.dtypes\n"
   ]
  },
  {
   "cell_type": "markdown",
   "metadata": {},
   "source": [
    "# Prediction & Evaluation"
   ]
  },
  {
   "cell_type": "code",
   "execution_count": 823,
   "metadata": {},
   "outputs": [],
   "source": [
    "#Scaling the test set\n",
    "num_vars = ['Change%','Open','Low','High','Price(in dollars)']\n",
    "df_test[num_vars] = scaler.fit_transform(df_test[num_vars])\n"
   ]
  },
  {
   "cell_type": "code",
   "execution_count": 824,
   "metadata": {},
   "outputs": [],
   "source": [
    "#Dividing into X and y\n",
    "y_test = df_test.pop('Price(in dollars)')\n",
    "X_test = df_test"
   ]
  },
  {
   "cell_type": "code",
   "execution_count": 825,
   "metadata": {},
   "outputs": [],
   "source": [
    "# Now let's use our model to make predictions.\n",
    "X_train_new = X_train_new.drop('const',axis=1)\n",
    "# Creating X_test_new dataframe by dropping variables from X_test\n",
    "X_test_new = X_test[X_train_new.columns]\n",
    "\n",
    "# Adding a constant variable \n",
    "X_test_new = sm.add_constant(X_test_new)"
   ]
  },
  {
   "cell_type": "code",
   "execution_count": 826,
   "metadata": {},
   "outputs": [
    {
     "data": {
      "text/html": [
       "<div>\n",
       "<style scoped>\n",
       "    .dataframe tbody tr th:only-of-type {\n",
       "        vertical-align: middle;\n",
       "    }\n",
       "\n",
       "    .dataframe tbody tr th {\n",
       "        vertical-align: top;\n",
       "    }\n",
       "\n",
       "    .dataframe thead th {\n",
       "        text-align: right;\n",
       "    }\n",
       "</style>\n",
       "<table border=\"1\" class=\"dataframe\">\n",
       "  <thead>\n",
       "    <tr style=\"text-align: right;\">\n",
       "      <th></th>\n",
       "      <th>const</th>\n",
       "      <th>Year</th>\n",
       "      <th>Open</th>\n",
       "      <th>High</th>\n",
       "      <th>Low</th>\n",
       "      <th>Change%</th>\n",
       "    </tr>\n",
       "  </thead>\n",
       "  <tbody>\n",
       "    <tr>\n",
       "      <th>1333</th>\n",
       "      <td>1.0</td>\n",
       "      <td>2017</td>\n",
       "      <td>0.000769</td>\n",
       "      <td>0.000788</td>\n",
       "      <td>0.000753</td>\n",
       "      <td>0.580556</td>\n",
       "    </tr>\n",
       "    <tr>\n",
       "      <th>361</th>\n",
       "      <td>1.0</td>\n",
       "      <td>2020</td>\n",
       "      <td>0.030737</td>\n",
       "      <td>0.030308</td>\n",
       "      <td>0.031429</td>\n",
       "      <td>0.612908</td>\n",
       "    </tr>\n",
       "    <tr>\n",
       "      <th>1306</th>\n",
       "      <td>1.0</td>\n",
       "      <td>2017</td>\n",
       "      <td>0.012803</td>\n",
       "      <td>0.012892</td>\n",
       "      <td>0.011720</td>\n",
       "      <td>0.461275</td>\n",
       "    </tr>\n",
       "  </tbody>\n",
       "</table>\n",
       "</div>"
      ],
      "text/plain": [
       "      const  Year      Open      High       Low   Change%\n",
       "1333    1.0  2017  0.000769  0.000788  0.000753  0.580556\n",
       "361     1.0  2020  0.030737  0.030308  0.031429  0.612908\n",
       "1306    1.0  2017  0.012803  0.012892  0.011720  0.461275"
      ]
     },
     "execution_count": 826,
     "metadata": {},
     "output_type": "execute_result"
    }
   ],
   "source": [
    "X_test_new.head(3)"
   ]
  },
  {
   "cell_type": "code",
   "execution_count": null,
   "metadata": {},
   "outputs": [],
   "source": []
  },
  {
   "cell_type": "code",
   "execution_count": 827,
   "metadata": {},
   "outputs": [
    {
     "data": {
      "text/plain": [
       "0.9865563443532128"
      ]
     },
     "execution_count": 827,
     "metadata": {},
     "output_type": "execute_result"
    }
   ],
   "source": [
    "from sklearn.metrics import r2_score \n",
    "r2_score(y_test, y_pred)"
   ]
  },
  {
   "cell_type": "code",
   "execution_count": 828,
   "metadata": {},
   "outputs": [
    {
     "data": {
      "text/plain": [
       "Text(0, 0.5, 'y_pred')"
      ]
     },
     "execution_count": 828,
     "metadata": {},
     "output_type": "execute_result"
    },
    {
     "data": {
      "image/png": "[encoded data removed]",
      "text/plain": [
       "<Figure size 432x288 with 1 Axes>"
      ]
     },
     "metadata": {
      "needs_background": "light"
     },
     "output_type": "display_data"
    }
   ],
   "source": [
    "#EVALUATION OF THE MODEL\n",
    "# Plotting y_test and y_pred to understand the spread.\n",
    "fig = mp.figure()\n",
    "mp.scatter(y_test,y_pred)\n",
    "fig.suptitle('y_test vs y_pred', fontsize=20)              # Plot heading \n",
    "mp.xlabel('y_test', fontsize=18)                          # X-label\n",
    "mp.ylabel('y_pred', fontsize=16)   "
   ]
  },
  {
   "cell_type": "code",
   "execution_count": 829,
   "metadata": {},
   "outputs": [
    {
     "name": "stdout",
     "output_type": "stream",
     "text": [
      "                                 OLS Regression Results                                \n",
      "=======================================================================================\n",
      "Dep. Variable:      Price(in dollars)   R-squared (uncentered):                   0.999\n",
      "Model:                            OLS   Adj. R-squared (uncentered):              0.999\n",
      "Method:                 Least Squares   F-statistic:                          2.494e+05\n",
      "Date:                Fri, 27 Aug 2021   Prob (F-statistic):                        0.00\n",
      "Time:                        16:23:01   Log-Likelihood:                          3576.7\n",
      "No. Observations:                 949   AIC:                                     -7143.\n",
      "Df Residuals:                     944   BIC:                                     -7119.\n",
      "Df Model:                           5                                                  \n",
      "Covariance Type:            nonrobust                                                  \n",
      "==============================================================================\n",
      "                 coef    std err          t      P>|t|      [0.025      0.975]\n",
      "------------------------------------------------------------------------------\n",
      "Year          -0.0001      0.001     -0.152      0.879      -0.002       0.001\n",
      "Open          -0.5613      0.020    -27.669      0.000      -0.601      -0.521\n",
      "High           0.9508      0.016     60.812      0.000       0.920       0.981\n",
      "Low            0.5771      0.017     34.386      0.000       0.544       0.610\n",
      "Change%        0.0008      0.001      0.815      0.416      -0.001       0.003\n",
      "==============================================================================\n",
      "Omnibus:                      313.332   Durbin-Watson:                   2.104\n",
      "Prob(Omnibus):                  0.000   Jarque-Bera (JB):            49951.683\n",
      "Skew:                          -0.212   Prob(JB):                         0.00\n",
      "Kurtosis:                      38.540   Cond. No.                         102.\n",
      "==============================================================================\n",
      "\n",
      "Warnings:\n",
      "[1] Standard Errors assume that the covariance matrix of the errors is correctly specified.\n"
     ]
    }
   ],
   "source": [
    "print(lm.summary())"
   ]
  },
  {
   "cell_type": "markdown",
   "metadata": {},
   "source": [
    "Inference :\n",
    "R-sqaured and Adjusted R-squared (extent of fit) - 0.999 and 0.999 - 100% variance explained.\n",
    "\n",
    "p-values - p-values for all the coefficients seem to be less than the significance level of 0.05. - meaning that all the predictors are statistically significant.\n"
   ]
  },
  {
   "cell_type": "code",
   "execution_count": null,
   "metadata": {},
   "outputs": [],
   "source": []
  }
 ],
 "metadata": {
  "kernelspec": {
   "display_name": "Python 3",
   "language": "python",
   "name": "python3"
  },
  "language_info": {
   "codemirror_mode": {
    "name": "ipython",
    "version": 3
   },
   "file_extension": ".py",
   "mimetype": "text/x-python",
   "name": "python",
   "nbconvert_exporter": "python",
   "pygments_lexer": "ipython3",
   "version": "3.8.3"
  }
 },
 "nbformat": 4,
 "nbformat_minor": 4
}
